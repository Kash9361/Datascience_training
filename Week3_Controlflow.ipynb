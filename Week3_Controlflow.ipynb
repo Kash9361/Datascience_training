{
  "nbformat": 4,
  "nbformat_minor": 0,
  "metadata": {
    "colab": {
      "provenance": []
    },
    "kernelspec": {
      "name": "python3",
      "display_name": "Python 3"
    },
    "language_info": {
      "name": "python"
    }
  },
  "cells": [
    {
      "cell_type": "code",
      "execution_count": 1,
      "metadata": {
        "id": "l-bA2Nypk-cE",
        "colab": {
          "base_uri": "https://localhost:8080/"
        },
        "outputId": "6a26795b-a333-46b3-98dc-90e58aabe2ee"
      },
      "outputs": [
        {
          "output_type": "stream",
          "name": "stdout",
          "text": [
            "Enter a number: 2\n",
            "2 is a prime number\n"
          ]
        }
      ],
      "source": [
        "# Week 3: Python Control Flow\n",
        "# 1. Check if a Number is Prime\n",
        "\n",
        "num = int(input(\"Enter a number: \"))\n",
        "\n",
        "if num < 2:\n",
        "    print(num, \"is not a prime number\")\n",
        "else:\n",
        "    is_prime = True\n",
        "    for i in range(2, int(num**0.5) + 1):\n",
        "        if num % i == 0:\n",
        "            is_prime = False\n",
        "            break\n",
        "    if is_prime:\n",
        "        print(num, \"is a prime number\")\n",
        "    else:\n",
        "        print(num, \"is not a prime number\")\n",
        "\n"
      ]
    },
    {
      "cell_type": "code",
      "source": [
        " #Fibonacci Sequence up to 20 Terms\n",
        "\n",
        "terms = 20\n",
        "a, b = 0, 1\n",
        "print(\"Fibonacci Sequence up to 20 terms:\")\n",
        "for _ in range(terms):\n",
        "    print(a, end=\" \")\n",
        "    a, b = b, a + b\n",
        "print()"
      ],
      "metadata": {
        "colab": {
          "base_uri": "https://localhost:8080/"
        },
        "id": "mPW3yMKz4NZ-",
        "outputId": "f4da3c2c-db92-4983-911f-08dc10ff1d5a"
      },
      "execution_count": 3,
      "outputs": [
        {
          "output_type": "stream",
          "name": "stdout",
          "text": [
            "Fibonacci Sequence up to 20 terms:\n",
            "0 1 1 2 3 5 8 13 21 34 55 89 144 233 377 610 987 1597 2584 4181 \n"
          ]
        }
      ]
    },
    {
      "cell_type": "code",
      "source": [
        "#3.Grading System using if-else\n",
        "\n",
        "marks = float(input(\"Enter your marks (0-100): \"))\n",
        "\n",
        "if marks >= 90:\n",
        "    grade = \"A\"\n",
        "elif marks >= 80:\n",
        "    grade = \"B\"\n",
        "elif marks >= 70:\n",
        "    grade = \"C\"\n",
        "elif marks >= 60:\n",
        "    grade = \"D\"\n",
        "else:\n",
        "    grade = \"Fail\"\n",
        "\n",
        "print(\"Your Grade is:\", grade)"
      ],
      "metadata": {
        "colab": {
          "base_uri": "https://localhost:8080/"
        },
        "id": "xc8Fw7F54aLA",
        "outputId": "b02952d8-a08e-476b-960f-8625c5f905dc"
      },
      "execution_count": 5,
      "outputs": [
        {
          "output_type": "stream",
          "name": "stdout",
          "text": [
            "Enter your marks (0-100): 66\n",
            "Your Grade is: D\n"
          ]
        }
      ]
    },
    {
      "cell_type": "code",
      "source": [],
      "metadata": {
        "id": "8RF4avF04emn"
      },
      "execution_count": null,
      "outputs": []
    }
  ]
}