{
  "nbformat": 4,
  "nbformat_minor": 0,
  "metadata": {
    "colab": {
      "provenance": []
    },
    "kernelspec": {
      "name": "python3",
      "display_name": "Python 3"
    },
    "language_info": {
      "name": "python"
    }
  },
  "cells": [
    {
      "cell_type": "code",
      "execution_count": 1,
      "metadata": {
        "colab": {
          "base_uri": "https://localhost:8080/"
        },
        "id": "5-KEKgI5WuZE",
        "outputId": "c739a1e1-5477-4535-b35c-f52bd1a5db70"
      },
      "outputs": [
        {
          "output_type": "stream",
          "name": "stdout",
          "text": [
            "Age: 25 <class 'int'>\n",
            "Height: 5.9 <class 'float'>\n",
            "Name: Sai <class 'str'>\n",
            "Is Student? True <class 'bool'>\n"
          ]
        }
      ],
      "source": [
        "# Integer\n",
        "age = 25\n",
        "print(\"Age:\", age, type(age))\n",
        "\n",
        "# Float\n",
        "height = 5.9\n",
        "print(\"Height:\", height, type(height))\n",
        "\n",
        "# String\n",
        "name = \"Sai\"\n",
        "print(\"Name:\", name, type(name))\n",
        "\n",
        "# Boolean\n",
        "is_student = True\n",
        "print(\"Is Student?\", is_student, type(is_student))\n"
      ]
    },
    {
      "cell_type": "code",
      "source": [
        "a = 15\n",
        "b = 4\n",
        "\n",
        "print(\"Sum:\", a + b)\n",
        "print(\"Difference:\", a - b)\n",
        "print(\"Multiplication:\", a * b)\n",
        "print(\"Division:\", a / b)      # float division\n",
        "print(\"Floor Division:\", a // b) # integer division\n",
        "print(\"Modulus:\", a % b)       # remainder\n",
        "print(\"Power:\", a ** b)        # exponent\n"
      ],
      "metadata": {
        "colab": {
          "base_uri": "https://localhost:8080/"
        },
        "id": "HR0cz_6BXJxO",
        "outputId": "ab4bf98f-efc7-4114-c80a-4469de8f70b2"
      },
      "execution_count": 2,
      "outputs": [
        {
          "output_type": "stream",
          "name": "stdout",
          "text": [
            "Sum: 19\n",
            "Difference: 11\n",
            "Multiplication: 60\n",
            "Division: 3.75\n",
            "Floor Division: 3\n",
            "Modulus: 3\n",
            "Power: 50625\n"
          ]
        }
      ]
    },
    {
      "cell_type": "code",
      "source": [
        "# BMI = weight (kg) / height^2 (m^2)\n",
        "\n",
        "# Taking input from user\n",
        "weight = float(input(\"Enter your weight in kg: \"))\n",
        "height = float(input(\"Enter your height in meters: \"))\n",
        "\n",
        "bmi = weight / (height ** 2)\n",
        "\n",
        "print(\"Your BMI is:\", round(bmi, 2))\n"
      ],
      "metadata": {
        "colab": {
          "base_uri": "https://localhost:8080/"
        },
        "id": "ucNRS65LXMXY",
        "outputId": "a4475f8c-bbf3-4a1a-fbf5-25658be6e1b1"
      },
      "execution_count": 3,
      "outputs": [
        {
          "output_type": "stream",
          "name": "stdout",
          "text": [
            "Enter your weight in kg: 59\n",
            "Enter your height in meters: 1.7\n",
            "Your BMI is: 20.42\n"
          ]
        }
      ]
    }
  ]
}