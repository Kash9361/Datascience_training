{
  "nbformat": 4,
  "nbformat_minor": 0,
  "metadata": {
    "colab": {
      "provenance": []
    },
    "kernelspec": {
      "name": "python3",
      "display_name": "Python 3"
    },
    "language_info": {
      "name": "python"
    }
  },
  "cells": [
    {
      "cell_type": "code",
      "execution_count": 1,
      "metadata": {
        "colab": {
          "base_uri": "https://localhost:8080/"
        },
        "id": "SnVgmKCJRwVn",
        "outputId": "7e85c37c-9993-4bcf-8329-d933b413ad59"
      },
      "outputs": [
        {
          "output_type": "stream",
          "name": "stdout",
          "text": [
            "Hello Data Science! Excited to start my journey.\n"
          ]
        }
      ],
      "source": [
        "print(\"Hello Data Science! Excited to start my journey.\")\n"
      ]
    }
  ]
}