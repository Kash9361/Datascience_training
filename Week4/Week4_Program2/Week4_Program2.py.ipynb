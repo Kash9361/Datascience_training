{
  "nbformat": 4,
  "nbformat_minor": 0,
  "metadata": {
    "colab": {
      "provenance": []
    },
    "kernelspec": {
      "name": "python3",
      "display_name": "Python 3"
    },
    "language_info": {
      "name": "python"
    }
  },
  "cells": [
    {
      "cell_type": "code",
      "execution_count": 1,
      "metadata": {
        "id": "zv2GTlyHnhd9",
        "outputId": "22ccc38f-a510-40cc-b850-a46bda51afb6",
        "colab": {
          "base_uri": "https://localhost:8080/"
        }
      },
      "outputs": [
        {
          "output_type": "stream",
          "name": "stdout",
          "text": [
            "Enter first number: 1\n",
            "Enter second number: 2\n",
            "Enter third number: 3\n",
            "The maximum of the three numbers is: 3.0\n"
          ]
        }
      ],
      "source": [
        "def max_of_three(a, b, c):\n",
        "    return max(a, b, c)\n",
        "\n",
        "# Example usage\n",
        "num1 = float(input(\"Enter first number: \"))\n",
        "num2 = float(input(\"Enter second number: \"))\n",
        "num3 = float(input(\"Enter third number: \"))\n",
        "\n",
        "print(\"The maximum of the three numbers is:\", max_of_three(num1, num2, num3))\n"
      ]
    }
  ]
}