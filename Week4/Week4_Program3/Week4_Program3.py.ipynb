{
  "nbformat": 4,
  "nbformat_minor": 0,
  "metadata": {
    "colab": {
      "provenance": []
    },
    "kernelspec": {
      "name": "python3",
      "display_name": "Python 3"
    },
    "language_info": {
      "name": "python"
    }
  },
  "cells": [
    {
      "cell_type": "markdown",
      "source": [
        "1. Factorial Function"
      ],
      "metadata": {
        "id": "q46AdASTSWk0"
      }
    },
    {
      "cell_type": "markdown",
      "source": [
        "3. math_module_examples.py"
      ],
      "metadata": {
        "id": "GKflbZQYS0e8"
      }
    },
    {
      "cell_type": "code",
      "source": [
        "import math\n",
        "\n",
        "# Square root\n",
        "number = float(input(\"Enter a number to find its square root: \"))\n",
        "print(\"Square root:\", math.sqrt(number))\n",
        "\n",
        "# Power\n",
        "base = float(input(\"\\nEnter base number: \"))\n",
        "exponent = float(input(\"Enter exponent: \"))\n",
        "print(\"Result of power:\", math.pow(base, exponent))\n",
        "\n",
        "# Logarithm (natural log)\n",
        "num_log = float(input(\"\\nEnter a number to find its natural log: \"))\n",
        "print(\"Natural log:\", math.log(num_log))\n"
      ],
      "metadata": {
        "colab": {
          "base_uri": "https://localhost:8080/"
        },
        "id": "hCudhbl1S1Bd",
        "outputId": "69617f68-6a67-4959-c335-a40c87ad6a87"
      },
      "execution_count": null,
      "outputs": [
        {
          "output_type": "stream",
          "name": "stdout",
          "text": [
            "Enter a number to find its square root: 4\n",
            "Square root: 2.0\n",
            "\n",
            "Enter base number: 2\n",
            "Enter exponent: 2\n",
            "Result of power: 4.0\n",
            "\n",
            "Enter a number to find its natural log: 3\n",
            "Natural log: 1.0986122886681098\n"
          ]
        }
      ]
    }
  ]
}