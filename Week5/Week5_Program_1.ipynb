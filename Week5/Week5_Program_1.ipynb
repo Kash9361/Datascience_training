{
  "nbformat": 4,
  "nbformat_minor": 0,
  "metadata": {
    "colab": {
      "provenance": []
    },
    "kernelspec": {
      "name": "python3",
      "display_name": "Python 3"
    },
    "language_info": {
      "name": "python"
    }
  },
  "cells": [
    {
      "cell_type": "code",
      "execution_count": 1,
      "metadata": {
        "colab": {
          "base_uri": "https://localhost:8080/"
        },
        "id": "h6t8E_7dSOj1",
        "outputId": "05fb645b-91d1-4f72-fd19-92fc1daddfe6"
      },
      "outputs": [
        {
          "output_type": "stream",
          "name": "stdout",
          "text": [
            "Sorted student names: ['Alice', 'David', 'John', 'Michael', 'Sophia']\n"
          ]
        }
      ],
      "source": [
        "# 1. List of student names → sort alphabetically\n",
        "students = [\"John\", \"Alice\", \"Michael\", \"David\", \"Sophia\"]\n",
        "students.sort()\n",
        "print(\"Sorted student names:\", students)"
      ]
    }
  ]
}