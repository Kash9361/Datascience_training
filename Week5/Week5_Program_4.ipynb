{
  "nbformat": 4,
  "nbformat_minor": 0,
  "metadata": {
    "colab": {
      "provenance": []
    },
    "kernelspec": {
      "name": "python3",
      "display_name": "Python 3"
    },
    "language_info": {
      "name": "python"
    }
  },
  "cells": [
    {
      "cell_type": "code",
      "execution_count": 1,
      "metadata": {
        "colab": {
          "base_uri": "https://localhost:8080/"
        },
        "id": "7Rwth8sQTEAH",
        "outputId": "c1980be4-cc9e-4471-8e94-86f8206143f1"
      },
      "outputs": [
        {
          "output_type": "stream",
          "name": "stdout",
          "text": [
            "Tuple (coordinates): (34.0522, -118.2437)\n"
          ]
        }
      ],
      "source": [
        "# 4. Tuple example (coordinates)\n",
        "coordinates = (34.0522, -118.2437)  # Example: Los Angeles coordinates\n",
        "print(\"Tuple (coordinates):\", coordinates)"
      ]
    }
  ]
}