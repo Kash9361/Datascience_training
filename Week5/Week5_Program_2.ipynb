{
  "nbformat": 4,
  "nbformat_minor": 0,
  "metadata": {
    "colab": {
      "provenance": []
    },
    "kernelspec": {
      "name": "python3",
      "display_name": "Python 3"
    },
    "language_info": {
      "name": "python"
    }
  },
  "cells": [
    {
      "cell_type": "code",
      "execution_count": 1,
      "metadata": {
        "colab": {
          "base_uri": "https://localhost:8080/"
        },
        "id": "Twi8OGmHS0TO",
        "outputId": "e3ef20f0-bf8b-485e-a3ba-7db1942307fe"
      },
      "outputs": [
        {
          "output_type": "stream",
          "name": "stdout",
          "text": [
            "Enter a country name to get its capital: USA\n",
            "Capital: Washington, D.C.\n"
          ]
        }
      ],
      "source": [
        "# 2. Dictionary of country → capital → fetch values\n",
        "countries_capitals = {\n",
        "    \"USA\": \"Washington, D.C.\",\n",
        "    \"India\": \"New Delhi\",\n",
        "    \"France\": \"Paris\",\n",
        "    \"Japan\": \"Tokyo\"\n",
        "}\n",
        "\n",
        "country = input(\"Enter a country name to get its capital: \")\n",
        "print(\"Capital:\", countries_capitals.get(country, \"Country not found\"))\n",
        "\n"
      ]
    }
  ]
}