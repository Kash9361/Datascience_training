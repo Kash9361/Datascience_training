{
  "nbformat": 4,
  "nbformat_minor": 0,
  "metadata": {
    "colab": {
      "provenance": []
    },
    "kernelspec": {
      "name": "python3",
      "display_name": "Python 3"
    },
    "language_info": {
      "name": "python"
    }
  },
  "cells": [
    {
      "cell_type": "code",
      "execution_count": 1,
      "metadata": {
        "colab": {
          "base_uri": "https://localhost:8080/"
        },
        "id": "jxiz0w2kDhOE",
        "outputId": "262f466c-94c3-422e-bf84-d6029b8d9ffa"
      },
      "outputs": [
        {
          "output_type": "stream",
          "name": "stdout",
          "text": [
            "Sorted student names: ['Alice', 'David', 'John', 'Michael', 'Sophia']\n",
            "Enter a country name to get its capital: USA\n",
            "Capital: Washington, D.C.\n",
            "Set with duplicates removed: {1, 2, 3, 4, 5, 6}\n",
            "Tuple (coordinates): (34.0522, -118.2437)\n"
          ]
        }
      ],
      "source": [
        "# 1. List of student names → sort alphabetically\n",
        "students = [\"John\", \"Alice\", \"Michael\", \"David\", \"Sophia\"]\n",
        "students.sort()\n",
        "print(\"Sorted student names:\", students)\n",
        "\n",
        "# 2. Dictionary of country → capital → fetch values\n",
        "countries_capitals = {\n",
        "    \"USA\": \"Washington, D.C.\",\n",
        "    \"India\": \"New Delhi\",\n",
        "    \"France\": \"Paris\",\n",
        "    \"Japan\": \"Tokyo\"\n",
        "}\n",
        "country = input(\"Enter a country name to get its capital: \")\n",
        "print(\"Capital:\", countries_capitals.get(country, \"Country not found\"))\n",
        "\n",
        "# 3. Set of numbers → remove duplicates\n",
        "numbers = [1, 2, 3, 2, 4, 5, 3, 6, 1]\n",
        "unique_numbers = set(numbers)\n",
        "print(\"Set with duplicates removed:\", unique_numbers)\n",
        "\n",
        "# 4. Tuple example (coordinates)\n",
        "coordinates = (34.0522, -118.2437)  # Example: Los Angeles coordinates\n",
        "print(\"Tuple (coordinates):\", coordinates)\n"
      ]
    }
  ]
}