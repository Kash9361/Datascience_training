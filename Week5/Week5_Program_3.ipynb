{
  "nbformat": 4,
  "nbformat_minor": 0,
  "metadata": {
    "colab": {
      "provenance": []
    },
    "kernelspec": {
      "name": "python3",
      "display_name": "Python 3"
    },
    "language_info": {
      "name": "python"
    }
  },
  "cells": [
    {
      "cell_type": "code",
      "execution_count": 1,
      "metadata": {
        "colab": {
          "base_uri": "https://localhost:8080/"
        },
        "id": "5pLXkLEqS9-s",
        "outputId": "5e2fc732-1f91-4e15-aba8-9e15237fd67f"
      },
      "outputs": [
        {
          "output_type": "stream",
          "name": "stdout",
          "text": [
            "Unique numbers (duplicates removed): {1, 2, 3, 4, 5, 6}\n"
          ]
        }
      ],
      "source": [
        "# 3. Set of numbers → remove duplicates\n",
        "numbers = [1, 2, 3, 2, 4, 5, 3, 6, 1]\n",
        "unique_numbers = set(numbers)\n",
        "print(\"Unique numbers (duplicates removed):\", unique_numbers)\n",
        "\n"
      ]
    }
  ]
}