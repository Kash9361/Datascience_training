{
  "nbformat": 4,
  "nbformat_minor": 0,
  "metadata": {
    "colab": {
      "provenance": []
    },
    "kernelspec": {
      "name": "python3",
      "display_name": "Python 3"
    },
    "language_info": {
      "name": "python"
    }
  },
  "cells": [
    {
      "cell_type": "code",
      "execution_count": 2,
      "metadata": {
        "colab": {
          "base_uri": "https://localhost:8080/"
        },
        "id": "3IjNuSzvYY1P",
        "outputId": "e368caeb-3912-4dd6-e108-0f6e17489d00"
      },
      "outputs": [
        {
          "output_type": "stream",
          "name": "stdout",
          "text": [
            "---- Student Marks Data ----\n",
            "       Name  Subject  Marks\n",
            "0     Alice     Math     85\n",
            "1       Bob  Science     78\n",
            "2   Charlie     Math     92\n",
            "3     David  Science     88\n",
            "4     Emily     Math     76\n",
            "5     Frank     Math     89\n",
            "6     Grace  Science     82\n",
            "7    Hannah  English     91\n",
            "8       Ian  English     73\n",
            "9      Jack     Math     95\n",
            "10    Kelly  Science     67\n",
            "11     Liam  English     84\n",
            "12     Mona     Math     81\n",
            "13     Nina  Science     79\n",
            "14    Oscar  English     88\n",
            "\n",
            "---- Students with Marks > 80 ----\n",
            "       Name  Subject  Marks\n",
            "0     Alice     Math     85\n",
            "2   Charlie     Math     92\n",
            "3     David  Science     88\n",
            "5     Frank     Math     89\n",
            "6     Grace  Science     82\n",
            "7    Hannah  English     91\n",
            "9      Jack     Math     95\n",
            "11     Liam  English     84\n",
            "12     Mona     Math     81\n",
            "14    Oscar  English     88\n",
            "\n",
            "---- Average Marks by Subject ----\n",
            "Subject\n",
            "English    84.000000\n",
            "Math       86.333333\n",
            "Science    78.800000\n",
            "Name: Marks, dtype: float64\n"
          ]
        }
      ],
      "source": [
        "import pandas as pd\n",
        "\n",
        "# Load CSV file (make sure you have 'student_marks.csv' in the same folder)\n",
        "df = pd.read_csv(\"student_marks.csv\")\n",
        "\n",
        "print(\"---- Student Marks Data ----\")\n",
        "print(df)\n",
        "\n",
        "# 2. Select rows with marks > 80\n",
        "high_scores = df[df['Marks'] > 80]\n",
        "print(\"\\n---- Students with Marks > 80 ----\")\n",
        "print(high_scores)\n",
        "\n",
        "# 3. Group by subject and calculate average marks\n",
        "subject_avg = df.groupby('Subject')['Marks'].mean()\n",
        "print(\"\\n---- Average Marks by Subject ----\")\n",
        "print(subject_avg)\n",
        "\n",
        "# 4. Optional: Save results to new CSVs\n",
        "high_scores.to_csv(\"high_scores.csv\", index=False)\n",
        "subject_avg.to_csv(\"subject_average.csv\")\n"
      ]
    }
  ]
}