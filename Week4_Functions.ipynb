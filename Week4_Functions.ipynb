{
  "nbformat": 4,
  "nbformat_minor": 0,
  "metadata": {
    "colab": {
      "provenance": []
    },
    "kernelspec": {
      "name": "python3",
      "display_name": "Python 3"
    },
    "language_info": {
      "name": "python"
    }
  },
  "cells": [
    {
      "cell_type": "markdown",
      "source": [
        "1. Factorial Function"
      ],
      "metadata": {
        "id": "q46AdASTSWk0"
      }
    },
    {
      "cell_type": "code",
      "execution_count": 3,
      "metadata": {
        "colab": {
          "base_uri": "https://localhost:8080/"
        },
        "id": "lJVA0o8qSMyY",
        "outputId": "d1c7e8fd-5af4-4272-89ce-070d8c7b6556"
      },
      "outputs": [
        {
          "output_type": "stream",
          "name": "stdout",
          "text": [
            "Enter a number to find its factorial: 3\n",
            "Factorial of 3 is: 6\n"
          ]
        }
      ],
      "source": [
        "def factorial(n):\n",
        "    if n < 0:\n",
        "        return \"Factorial does not exist for negative numbers\"\n",
        "    elif n == 0 or n == 1:\n",
        "        return 1\n",
        "    else:\n",
        "        result = 1\n",
        "        for i in range(2, n + 1):\n",
        "            result *= i\n",
        "        return result\n",
        "\n",
        "# Example usage\n",
        "num = int(input(\"Enter a number to find its factorial: \"))\n",
        "print(f\"Factorial of {num} is:\", factorial(num))\n"
      ]
    },
    {
      "cell_type": "markdown",
      "source": [
        "2. max_of_three.py"
      ],
      "metadata": {
        "id": "YnleRY85Sq9e"
      }
    },
    {
      "cell_type": "code",
      "source": [
        "def max_of_three(a, b, c):\n",
        "    return max(a, b, c)\n",
        "\n",
        "# Example usage\n",
        "num1 = float(input(\"Enter first number: \"))\n",
        "num2 = float(input(\"Enter second number: \"))\n",
        "num3 = float(input(\"Enter third number: \"))\n",
        "\n",
        "print(\"The maximum of the three numbers is:\", max_of_three(num1, num2, num3))\n"
      ],
      "metadata": {
        "colab": {
          "base_uri": "https://localhost:8080/"
        },
        "id": "C6UxlSh5SrUz",
        "outputId": "d1e40535-232e-4be4-f255-3ed5fe5d5630"
      },
      "execution_count": 4,
      "outputs": [
        {
          "output_type": "stream",
          "name": "stdout",
          "text": [
            "Enter first number: 2\n",
            "Enter second number: 3\n",
            "Enter third number: 1\n",
            "The maximum of the three numbers is: 3.0\n"
          ]
        }
      ]
    },
    {
      "cell_type": "markdown",
      "source": [
        "3. math_module_examples.py"
      ],
      "metadata": {
        "id": "GKflbZQYS0e8"
      }
    },
    {
      "cell_type": "code",
      "source": [
        "import math\n",
        "\n",
        "# Square root\n",
        "number = float(input(\"Enter a number to find its square root: \"))\n",
        "print(\"Square root:\", math.sqrt(number))\n",
        "\n",
        "# Power\n",
        "base = float(input(\"\\nEnter base number: \"))\n",
        "exponent = float(input(\"Enter exponent: \"))\n",
        "print(\"Result of power:\", math.pow(base, exponent))\n",
        "\n",
        "# Logarithm (natural log)\n",
        "num_log = float(input(\"\\nEnter a number to find its natural log: \"))\n",
        "print(\"Natural log:\", math.log(num_log))\n"
      ],
      "metadata": {
        "colab": {
          "base_uri": "https://localhost:8080/"
        },
        "id": "hCudhbl1S1Bd",
        "outputId": "69617f68-6a67-4959-c335-a40c87ad6a87"
      },
      "execution_count": 5,
      "outputs": [
        {
          "output_type": "stream",
          "name": "stdout",
          "text": [
            "Enter a number to find its square root: 4\n",
            "Square root: 2.0\n",
            "\n",
            "Enter base number: 2\n",
            "Enter exponent: 2\n",
            "Result of power: 4.0\n",
            "\n",
            "Enter a number to find its natural log: 3\n",
            "Natural log: 1.0986122886681098\n"
          ]
        }
      ]
    }
  ]
}