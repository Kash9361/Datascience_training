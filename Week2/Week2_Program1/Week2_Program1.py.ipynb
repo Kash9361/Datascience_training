{
  "nbformat": 4,
  "nbformat_minor": 0,
  "metadata": {
    "colab": {
      "provenance": []
    },
    "kernelspec": {
      "name": "python3",
      "display_name": "Python 3"
    },
    "language_info": {
      "name": "python"
    }
  },
  "cells": [
    {
      "cell_type": "code",
      "execution_count": 1,
      "metadata": {
        "colab": {
          "base_uri": "https://localhost:8080/"
        },
        "id": "c19KjweilwMK",
        "outputId": "133c35f9-4a03-477a-e311-b4601a5d167a"
      },
      "outputs": [
        {
          "output_type": "stream",
          "name": "stdout",
          "text": [
            "Age: 25 <class 'int'>\n",
            "Height: 5.9 <class 'float'>\n",
            "Name: Sai <class 'str'>\n",
            "Is Student? True <class 'bool'>\n"
          ]
        }
      ],
      "source": [
        "# Integer\n",
        "age = 25\n",
        "print(\"Age:\", age, type(age))\n",
        "\n",
        "# Float\n",
        "height = 5.9\n",
        "print(\"Height:\", height, type(height))\n",
        "\n",
        "# String\n",
        "name = \"Sai\"\n",
        "print(\"Name:\", name, type(name))\n",
        "\n",
        "# Boolean\n",
        "is_student = True\n",
        "print(\"Is Student?\", is_student, type(is_student))\n"
      ]
    }
  ]
}