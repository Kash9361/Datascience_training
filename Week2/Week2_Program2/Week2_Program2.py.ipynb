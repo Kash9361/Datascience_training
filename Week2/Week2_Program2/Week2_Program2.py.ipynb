{
  "nbformat": 4,
  "nbformat_minor": 0,
  "metadata": {
    "colab": {
      "provenance": []
    },
    "kernelspec": {
      "name": "python3",
      "display_name": "Python 3"
    },
    "language_info": {
      "name": "python"
    }
  },
  "cells": [
    {
      "cell_type": "code",
      "execution_count": 1,
      "metadata": {
        "colab": {
          "base_uri": "https://localhost:8080/"
        },
        "id": "vVmU0MJ1mBqn",
        "outputId": "f9ece26b-204b-4372-e3e2-e1d89ec767c5"
      },
      "outputs": [
        {
          "output_type": "stream",
          "name": "stdout",
          "text": [
            "Sum: 19\n",
            "Difference: 11\n",
            "Multiplication: 60\n",
            "Division: 3.75\n",
            "Floor Division: 3\n",
            "Modulus: 3\n",
            "Power: 50625\n"
          ]
        }
      ],
      "source": [
        "a = 15\n",
        "b = 4\n",
        "\n",
        "print(\"Sum:\", a + b)\n",
        "print(\"Difference:\", a - b)\n",
        "print(\"Multiplication:\", a * b)\n",
        "print(\"Division:\", a / b)      # float division\n",
        "print(\"Floor Division:\", a // b) # integer division\n",
        "print(\"Modulus:\", a % b)       # remainder\n",
        "print(\"Power:\", a ** b)        # exponent\n"
      ]
    }
  ]
}