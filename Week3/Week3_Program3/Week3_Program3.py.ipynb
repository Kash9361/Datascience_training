{
  "nbformat": 4,
  "nbformat_minor": 0,
  "metadata": {
    "colab": {
      "provenance": []
    },
    "kernelspec": {
      "name": "python3",
      "display_name": "Python 3"
    },
    "language_info": {
      "name": "python"
    }
  },
  "cells": [
    {
      "cell_type": "code",
      "source": [
        "#3.Grading System using if-else\n",
        "\n",
        "marks = float(input(\"Enter your marks (0-100): \"))\n",
        "\n",
        "if marks >= 90:\n",
        "    grade = \"A\"\n",
        "elif marks >= 80:\n",
        "    grade = \"B\"\n",
        "elif marks >= 70:\n",
        "    grade = \"C\"\n",
        "elif marks >= 60:\n",
        "    grade = \"D\"\n",
        "else:\n",
        "    grade = \"Fail\"\n",
        "\n",
        "print(\"Your Grade is:\", grade)"
      ],
      "metadata": {
        "colab": {
          "base_uri": "https://localhost:8080/"
        },
        "id": "5WQS3Jv2m-ll",
        "outputId": "0d9740e6-1025-4bf1-ac33-bd878cbd26e5"
      },
      "execution_count": 1,
      "outputs": [
        {
          "output_type": "stream",
          "name": "stdout",
          "text": [
            "Enter your marks (0-100): 66\n",
            "Your Grade is: D\n"
          ]
        }
      ]
    }
  ]
}