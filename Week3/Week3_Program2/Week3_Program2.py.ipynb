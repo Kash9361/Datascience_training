{
  "nbformat": 4,
  "nbformat_minor": 0,
  "metadata": {
    "colab": {
      "provenance": []
    },
    "kernelspec": {
      "name": "python3",
      "display_name": "Python 3"
    },
    "language_info": {
      "name": "python"
    }
  },
  "cells": [
    {
      "cell_type": "code",
      "source": [
        " #Fibonacci Sequence up to 20 Terms\n",
        "\n",
        "terms = 20\n",
        "a, b = 0, 1\n",
        "print(\"Fibonacci Sequence up to 20 terms:\")\n",
        "for _ in range(terms):\n",
        "    print(a, end=\" \")\n",
        "    a, b = b, a + b\n",
        "print()"
      ],
      "metadata": {
        "colab": {
          "base_uri": "https://localhost:8080/"
        },
        "id": "mPW3yMKz4NZ-",
        "outputId": "f4da3c2c-db92-4983-911f-08dc10ff1d5a"
      },
      "execution_count": null,
      "outputs": [
        {
          "output_type": "stream",
          "name": "stdout",
          "text": [
            "Fibonacci Sequence up to 20 terms:\n",
            "0 1 1 2 3 5 8 13 21 34 55 89 144 233 377 610 987 1597 2584 4181 \n"
          ]
        }
      ]
    },
    {
      "cell_type": "code",
      "source": [],
      "metadata": {
        "id": "8RF4avF04emn"
      },
      "execution_count": null,
      "outputs": []
    }
  ]
}