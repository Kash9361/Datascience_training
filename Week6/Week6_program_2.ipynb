{
  "nbformat": 4,
  "nbformat_minor": 0,
  "metadata": {
    "colab": {
      "provenance": []
    },
    "kernelspec": {
      "name": "python3",
      "display_name": "Python 3"
    },
    "language_info": {
      "name": "python"
    }
  },
  "cells": [
    {
      "cell_type": "code",
      "execution_count": null,
      "metadata": {
        "colab": {
          "base_uri": "https://localhost:8080/"
        },
        "id": "NrLoyGxIU_f7",
        "outputId": "4bd47b10-d881-404f-98f5-05667f0d1109"
      },
      "outputs": [
        {
          "output_type": "stream",
          "name": "stdout",
          "text": [
            "Math Scores: [85 90 78 92 88]\n",
            "Science Scores: [80 89 84 91 86]\n"
          ]
        }
      ],
      "source": [
        "import numpy as np\n",
        "\n",
        "# 1. Create NumPy arrays for student scores\n",
        "scores_math = np.array([85, 90, 78, 92, 88])\n",
        "scores_science = np.array([80, 89, 84, 91, 86])\n",
        "\n",
        "print(\"Math Scores:\", scores_math)\n",
        "print(\"Science Scores:\", scores_science)\n",
        "\n",
        "\n"
      ]
    },
    {
      "cell_type": "code",
      "source": [
        "# 2. Element-wise addition\n",
        "total_scores = scores_math + scores_science\n",
        "print(\"\\nElement-wise Addition (Total Scores):\", total_scores)\n",
        "\n",
        "# 3. Element-wise multiplication\n",
        "weighted_scores = scores_math * 0.6 + scores_science * 0.4\n",
        "print(\"Weighted Scores (60% Math, 40% Science):\", weighted_scores)\n",
        "\n",
        "# 4. Generate random numbers with numpy.random\n",
        "random_scores = np.random.randint(50, 100, size=5)\n",
        "print(\"\\nRandomly Generated Scores:\", random_scores)\n",
        "\n",
        "# 5. Calculate mean, median, and standard deviation\n",
        "print(\"\\n--- Statistics ---\")\n",
        "print(\"Mean (Math):\", np.mean(scores_math))\n",
        "print(\"Median (Science):\", np.median(scores_science))\n",
        "print(\"Standard Deviation (Math):\", np.std(scores_math))\n"
      ],
      "metadata": {
        "colab": {
          "base_uri": "https://localhost:8080/"
        },
        "id": "G28kOl_rWyOS",
        "outputId": "03314b56-1166-40b1-ef94-32b866c3d8a0"
      },
      "execution_count": 2,
      "outputs": [
        {
          "output_type": "stream",
          "name": "stdout",
          "text": [
            "\n",
            "Element-wise Addition (Total Scores): [165 179 162 183 174]\n",
            "Weighted Scores (60% Math, 40% Science): [83.  89.6 80.4 91.6 87.2]\n",
            "\n",
            "Randomly Generated Scores: [54 90 92 63 59]\n",
            "\n",
            "--- Statistics ---\n",
            "Mean (Math): 86.6\n",
            "Median (Science): 86.0\n",
            "Standard Deviation (Math): 4.882622246293481\n"
          ]
        }
      ]
    }
  ]
}