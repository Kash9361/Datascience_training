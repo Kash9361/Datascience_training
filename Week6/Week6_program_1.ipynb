{
  "nbformat": 4,
  "nbformat_minor": 0,
  "metadata": {
    "colab": {
      "provenance": []
    },
    "kernelspec": {
      "name": "python3",
      "display_name": "Python 3"
    },
    "language_info": {
      "name": "python"
    }
  },
  "cells": [
    {
      "cell_type": "code",
      "execution_count": 1,
      "metadata": {
        "colab": {
          "base_uri": "https://localhost:8080/"
        },
        "id": "NrLoyGxIU_f7",
        "outputId": "4bd47b10-d881-404f-98f5-05667f0d1109"
      },
      "outputs": [
        {
          "output_type": "stream",
          "name": "stdout",
          "text": [
            "Math Scores: [85 90 78 92 88]\n",
            "Science Scores: [80 89 84 91 86]\n"
          ]
        }
      ],
      "source": [
        "import numpy as np\n",
        "\n",
        "# 1. Create NumPy arrays for student scores\n",
        "scores_math = np.array([85, 90, 78, 92, 88])\n",
        "scores_science = np.array([80, 89, 84, 91, 86])\n",
        "\n",
        "print(\"Math Scores:\", scores_math)\n",
        "print(\"Science Scores:\", scores_science)\n",
        "\n",
        "\n"
      ]
    }
  ]
}